{
 "cells": [
  {
   "cell_type": "code",
   "execution_count": 1,
   "id": "bb19c9fb",
   "metadata": {},
   "outputs": [
    {
     "name": "stdout",
     "output_type": "stream",
     "text": [
      "📦 Versions:\n",
      "Pandas: 2.2.3\n",
      "Numpy: 2.0.2\n",
      "Matplotlib: 3.10.0\n",
      "Seaborn: 0.13.2\n",
      "scikit-learn: 1.6.1\n",
      "TQDM: 4.67.1\n",
      "FastAPI: 0.116.1\n",
      "Uvicorn: 0.35.0\n",
      "MLflow: 3.1.1\n"
     ]
    }
   ],
   "source": [
    "# Import required libraries\n",
    "import pandas as pd\n",
    "import numpy as np\n",
    "import matplotlib\n",
    "import seaborn as sns\n",
    "import matplotlib.pyplot as plt\n",
    "import sklearn\n",
    "import tqdm\n",
    "import fastapi\n",
    "import uvicorn\n",
    "import mlflow\n",
    "import dotenv\n",
    "\n",
    "# Show versions\n",
    "print(\"📦 Versions:\")\n",
    "print(f\"Pandas: {pd.__version__}\")\n",
    "print(f\"Numpy: {np.__version__}\")\n",
    "print(f\"Matplotlib: {matplotlib.__version__}\")\n",
    "print(f\"Seaborn: {sns.__version__}\")\n",
    "print(f\"scikit-learn: {sklearn.__version__}\")\n",
    "print(f\"TQDM: {tqdm.__version__}\")\n",
    "print(f\"FastAPI: {fastapi.__version__}\")\n",
    "print(f\"Uvicorn: {uvicorn.__version__}\")\n",
    "print(f\"MLflow: {mlflow.__version__}\")"
   ]
  },
  {
   "cell_type": "code",
   "execution_count": 3,
   "id": "a03a1770",
   "metadata": {},
   "outputs": [
    {
     "name": "stderr",
     "output_type": "stream",
     "text": [
      "2025/07/21 19:24:47 INFO mlflow.tracking.fluent: Experiment with name 'Iris_RandomForest_Experiment' does not exist. Creating a new experiment.\n"
     ]
    },
    {
     "name": "stdout",
     "output_type": "stream",
     "text": [
      "Loading existing model checkpoint...\n"
     ]
    },
    {
     "data": {
      "application/vnd.jupyter.widget-view+json": {
       "model_id": "c1df84bda5f345c9bcd8c78b5959d83e",
       "version_major": 2,
       "version_minor": 0
      },
      "text/plain": [
       "Training epochs:   0%|          | 0/5 [00:00<?, ?it/s]"
      ]
     },
     "metadata": {},
     "output_type": "display_data"
    },
    {
     "name": "stderr",
     "output_type": "stream",
     "text": [
      "2025/07/21 19:24:48 WARNING mlflow.models.model: `artifact_path` is deprecated. Please use `name` instead.\n"
     ]
    },
    {
     "name": "stdout",
     "output_type": "stream",
     "text": [
      "Epoch 1/5 - Accuracy: 1.0000\n",
      "New best model saved with accuracy: 1.0000\n"
     ]
    },
    {
     "name": "stderr",
     "output_type": "stream",
     "text": [
      "2025/07/21 19:25:03 WARNING mlflow.models.model: Model logged without a signature and input example. Please set `input_example` parameter when logging the model to auto infer the model signature.\n"
     ]
    },
    {
     "name": "stdout",
     "output_type": "stream",
     "text": [
      "Epoch 2/5 - Accuracy: 1.0000\n",
      "Epoch 3/5 - Accuracy: 1.0000\n",
      "Epoch 4/5 - Accuracy: 1.0000\n",
      "Epoch 5/5 - Accuracy: 1.0000\n"
     ]
    },
    {
     "data": {
      "image/png": "[encoded data removed]",
      "text/plain": [
       "<Figure size 640x480 with 2 Axes>"
      ]
     },
     "metadata": {},
     "output_type": "display_data"
    }
   ],
   "source": [
    "import mlflow\n",
    "import mlflow.sklearn\n",
    "import csv\n",
    "from datetime import datetime\n",
    "\n",
    "# Clear: paths and constants\n",
    "MODEL_PATH = \"best_model.pkl\"\n",
    "TRAINING_LOG_CSV = \"training_log.csv\"\n",
    "CONF_MATRIX_PNG = \"confusion_matrix.png\"\n",
    "\n",
    "# Load Iris data (same as before)\n",
    "iris = load_iris()\n",
    "X = iris.data\n",
    "y = iris.target\n",
    "target_names = iris.target_names\n",
    "\n",
    "# Split train/test\n",
    "X_train, X_test, y_train, y_test = train_test_split(X, y, test_size=0.2, random_state=42)\n",
    "\n",
    "# Load existing model or create new\n",
    "if os.path.exists(MODEL_PATH):\n",
    "    print(\"Loading existing model checkpoint...\")\n",
    "    model = joblib.load(MODEL_PATH)\n",
    "else:\n",
    "    print(\"No checkpoint found, creating a new model...\")\n",
    "    model = RandomForestClassifier(n_estimators=100, random_state=42)\n",
    "\n",
    "# Initialize MLflow experiment\n",
    "mlflow.set_experiment(\"Iris_RandomForest_Experiment\")\n",
    "\n",
    "# Read old best accuracy from CSV log, if any\n",
    "def read_best_acc(csv_path):\n",
    "    best = 0.0\n",
    "    if os.path.exists(csv_path):\n",
    "        with open(csv_path, \"r\") as f:\n",
    "            reader = csv.DictReader(f)\n",
    "            for row in reader:\n",
    "                acc = float(row[\"accuracy\"])\n",
    "                if acc > best:\n",
    "                    best = acc\n",
    "    return best\n",
    "\n",
    "best_acc = read_best_acc(TRAINING_LOG_CSV)\n",
    "\n",
    "# Start MLflow run\n",
    "with mlflow.start_run(run_name=f\"Run_{datetime.now().strftime('%Y%m%d_%H%M%S')}\") as run:\n",
    "\n",
    "    epochs = 5\n",
    "    for epoch in tqdm(range(epochs), desc=\"Training epochs\"):\n",
    "\n",
    "        # Train model (retrain fully here)\n",
    "        model.fit(X_train, y_train)\n",
    "\n",
    "        # Predict & accuracy\n",
    "        y_pred = model.predict(X_test)\n",
    "        acc = accuracy_score(y_test, y_pred)\n",
    "        print(f\"Epoch {epoch+1}/{epochs} - Accuracy: {acc:.4f}\")\n",
    "\n",
    "        # Log metrics and parameters to MLflow\n",
    "        mlflow.log_param(\"n_estimators\", model.n_estimators)\n",
    "        mlflow.log_metric(\"accuracy\", acc, step=epoch+1)\n",
    "\n",
    "        # Save model if better accuracy\n",
    "        if acc > best_acc:\n",
    "            best_acc = acc\n",
    "            joblib.dump(model, MODEL_PATH)\n",
    "            print(f\"New best model saved with accuracy: {best_acc:.4f}\")\n",
    "            mlflow.sklearn.log_model(model, \"best_model\")\n",
    "\n",
    "    # Confusion Matrix plot\n",
    "    cm = confusion_matrix(y_test, y_pred, labels=model.classes_)\n",
    "    disp = ConfusionMatrixDisplay(confusion_matrix=cm, display_labels=target_names)\n",
    "    disp.plot(cmap=plt.cm.Blues)\n",
    "    plt.title(\"Confusion Matrix\")\n",
    "    plt.savefig(CONF_MATRIX_PNG)\n",
    "    plt.show()\n",
    "\n",
    "    # Log plot as artifact\n",
    "    mlflow.log_artifact(CONF_MATRIX_PNG)\n",
    "\n",
    "    # Append current run info to CSV log file (training_log.csv)\n",
    "    file_exists = os.path.exists(TRAINING_LOG_CSV)\n",
    "    with open(TRAINING_LOG_CSV, mode=\"a\", newline=\"\") as csvfile:\n",
    "        fieldnames = [\"timestamp\", \"accuracy\", \"n_estimators\", \"run_id\"]\n",
    "        writer = csv.DictWriter(csvfile, fieldnames=fieldnames)\n",
    "        if not file_exists:\n",
    "            writer.writeheader()\n",
    "        writer.writerow({\n",
    "            \"timestamp\": datetime.now().strftime(\"%Y-%m-%d %H:%M:%S\"),\n",
    "            \"accuracy\": best_acc,\n",
    "            \"n_estimators\": model.n_estimators,\n",
    "            \"run_id\": run.info.run_id\n",
    "        })"
   ]
  },
  {
   "cell_type": "code",
   "execution_count": null,
   "id": "80d596d9",
   "metadata": {},
   "outputs": [],
   "source": []
  }
 ],
 "metadata": {
  "kernelspec": {
   "display_name": "MIX",
   "language": "python",
   "name": "python3"
  },
  "language_info": {
   "codemirror_mode": {
    "name": "ipython",
    "version": 3
   },
   "file_extension": ".py",
   "mimetype": "text/x-python",
   "name": "python",
   "nbconvert_exporter": "python",
   "pygments_lexer": "ipython3",
   "version": "3.11.13"
  }
 },
 "nbformat": 4,
 "nbformat_minor": 5
}
